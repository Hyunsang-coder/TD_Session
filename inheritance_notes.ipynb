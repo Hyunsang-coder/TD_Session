{
 "cells": [
  {
   "attachments": {},
   "cell_type": "markdown",
   "metadata": {},
   "source": [
    "# TD Quick Session - Inheritance"
   ]
  },
  {
   "attachments": {},
   "cell_type": "markdown",
   "metadata": {},
   "source": [
    "\n",
    "간단한 **Weapon** 클래스 생성 후 이를 **상속**을 이용해 **M416**과 **Handgun**라는 **자식 클래스** 생성.  "
   ]
  },
  {
   "cell_type": "code",
   "execution_count": null,
   "metadata": {},
   "outputs": [],
   "source": [
    "\n",
    "class Weapon:\n",
    "    def __init__(self):\n",
    "        self.damage = 10\n",
    "        self.range = 50\n",
    "        self.type = \"Default Weapon\"\n",
    "    \n",
    "    def fire(self):\n",
    "        print (\"탕탕탕!\")\n",
    "    \n",
    "    def reload(self):\n",
    "        print(\"장전이 완료되었습니다\")\n",
    "    \n",
    "    def show_stats(self):\n",
    "        print(f\"Type: {self.type}, Damage: {self.damage}, Range: {self.range}\")\n",
    "        \n",
    "\n",
    "#인스턴스 생성\n",
    "default_weapon = Weapon()\n",
    "\n",
    "#함수 호출\n",
    "default_weapon.show_stats()\n",
    "default_weapon.fire()\n",
    "default_weapon.reload()"
   ]
  },
  {
   "attachments": {},
   "cell_type": "markdown",
   "metadata": {},
   "source": [
    "1) Weapon을 상속해서 M416 클래스 생성\n",
    "2) 데이터(변수)를 M416에 맞게 변경\n",
    "3) reload 함수를 오버라이드"
   ]
  },
  {
   "cell_type": "code",
   "execution_count": null,
   "metadata": {},
   "outputs": [],
   "source": [
    "class M416(Weapon):\n",
    "    def __init__(self):\n",
    "        super().__init__()\n",
    "        \n",
    "        #데이터 변경\n",
    "        #self.type = \"M416\"\n",
    "        #self.damage = 30\n",
    "        #self.range = 100\n",
    "    \n",
    "    #method override    \n",
    "    #def reload(self):\n",
    "    #    print(\"M416 장전 완료!\")\n",
    "    \n",
    "m416 = M416()\n",
    "\n",
    "m416.show_stats()\n",
    "m416.fire()\n",
    "m416.reload()"
   ]
  },
  {
   "attachments": {},
   "cell_type": "markdown",
   "metadata": {},
   "source": [
    "1) Weapon을 상속해서 Handgun 클래스 생성\n",
    "2) Handgun에 맞게 데이터 변경\n",
    "3) fire 함수를 오버라이드"
   ]
  },
  {
   "cell_type": "code",
   "execution_count": null,
   "metadata": {},
   "outputs": [],
   "source": [
    "class Handgun(Weapon):\n",
    "    def __innit__(self):\n",
    "        super().__init__()\n",
    "        self.type = \"Handgun\"\n",
    "        self.damage = 15\n",
    "        self.range = 30\n",
    "        \n",
    "    #method override\n",
    "    #def fire(self):\n",
    "    #    print(\"탕!\")\n",
    "        \n",
    "        \n",
    "handgun = Handgun()\n",
    "handgun.show_stats()\n",
    "handgun.fire()\n",
    "handgun.reload()\n"
   ]
  }
 ],
 "metadata": {
  "kernelspec": {
   "display_name": "base",
   "language": "python",
   "name": "python3"
  },
  "language_info": {
   "codemirror_mode": {
    "name": "ipython",
    "version": 3
   },
   "file_extension": ".py",
   "mimetype": "text/x-python",
   "name": "python",
   "nbconvert_exporter": "python",
   "pygments_lexer": "ipython3",
   "version": "3.9.15"
  },
  "orig_nbformat": 4,
  "vscode": {
   "interpreter": {
    "hash": "ed8671395f6390a6ca71d7e4dd014b62d159f36c3e800f5594d0466308c0461d"
   }
  }
 },
 "nbformat": 4,
 "nbformat_minor": 2
}
